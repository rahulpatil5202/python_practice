{
 "cells": [
  {
   "cell_type": "code",
   "execution_count": 1,
   "metadata": {},
   "outputs": [
    {
     "ename": "KeyboardInterrupt",
     "evalue": "",
     "output_type": "error",
     "traceback": [
      "\u001b[1;31m---------------------------------------------------------------------------\u001b[0m",
      "\u001b[1;31mKeyboardInterrupt\u001b[0m                         Traceback (most recent call last)",
      "\u001b[1;32m<ipython-input-1-4571fca2c647>\u001b[0m in \u001b[0;36m<module>\u001b[1;34m()\u001b[0m\n\u001b[0;32m     63\u001b[0m \u001b[1;33m\u001b[0m\u001b[0m\n\u001b[0;32m     64\u001b[0m     \u001b[1;32mfor\u001b[0m \u001b[0mitem\u001b[0m \u001b[1;32min\u001b[0m \u001b[0mreader\u001b[0m\u001b[1;33m:\u001b[0m\u001b[1;33m\u001b[0m\u001b[0m\n\u001b[1;32m---> 65\u001b[1;33m         \u001b[0mprintPingResult\u001b[0m\u001b[1;33m(\u001b[0m\u001b[0mitem\u001b[0m\u001b[1;33m[\u001b[0m\u001b[1;36m0\u001b[0m\u001b[1;33m]\u001b[0m\u001b[1;33m.\u001b[0m\u001b[0mstrip\u001b[0m\u001b[1;33m(\u001b[0m\u001b[1;33m)\u001b[0m\u001b[1;33m)\u001b[0m\u001b[1;33m\u001b[0m\u001b[0m\n\u001b[0m\u001b[0;32m     66\u001b[0m     \u001b[1;31m#endFor\u001b[0m\u001b[1;33m\u001b[0m\u001b[1;33m\u001b[0m\u001b[0m\n\u001b[0;32m     67\u001b[0m \u001b[1;32mfinally\u001b[0m\u001b[1;33m:\u001b[0m\u001b[1;33m\u001b[0m\u001b[0m\n",
      "\u001b[1;32m<ipython-input-1-4571fca2c647>\u001b[0m in \u001b[0;36mprintPingResult\u001b[1;34m(hostname)\u001b[0m\n\u001b[0;32m     29\u001b[0m \u001b[1;33m\u001b[0m\u001b[0m\n\u001b[0;32m     30\u001b[0m \u001b[1;32mdef\u001b[0m \u001b[0mprintPingResult\u001b[0m\u001b[1;33m(\u001b[0m\u001b[0mhostname\u001b[0m\u001b[1;33m)\u001b[0m\u001b[1;33m:\u001b[0m\u001b[1;33m\u001b[0m\u001b[0m\n\u001b[1;32m---> 31\u001b[1;33m     \u001b[0mstatusOfPing\u001b[0m \u001b[1;33m=\u001b[0m \u001b[0mping\u001b[0m\u001b[1;33m(\u001b[0m\u001b[0mhostname\u001b[0m\u001b[1;33m)\u001b[0m\u001b[1;33m\u001b[0m\u001b[0m\n\u001b[0m\u001b[0;32m     32\u001b[0m \u001b[1;33m\u001b[0m\u001b[0m\n\u001b[0;32m     33\u001b[0m     \u001b[1;32mif\u001b[0m \u001b[1;33m(\u001b[0m\u001b[0mstatusOfPing\u001b[0m \u001b[1;33m==\u001b[0m \u001b[1;34m'host_not_found'\u001b[0m\u001b[1;33m)\u001b[0m \u001b[1;33m:\u001b[0m\u001b[1;33m\u001b[0m\u001b[0m\n",
      "\u001b[1;32m<ipython-input-1-4571fca2c647>\u001b[0m in \u001b[0;36mping\u001b[1;34m(hostname)\u001b[0m\n\u001b[0;32m      8\u001b[0m \u001b[1;33m\u001b[0m\u001b[0m\n\u001b[0;32m      9\u001b[0m     \u001b[1;32mfor\u001b[0m \u001b[0mline\u001b[0m \u001b[1;32min\u001b[0m \u001b[0mp\u001b[0m\u001b[1;33m.\u001b[0m\u001b[0mstdout\u001b[0m\u001b[1;33m:\u001b[0m\u001b[1;33m\u001b[0m\u001b[0m\n\u001b[1;32m---> 10\u001b[1;33m         \u001b[0moutput\u001b[0m \u001b[1;33m=\u001b[0m \u001b[0mline\u001b[0m\u001b[1;33m.\u001b[0m\u001b[0mrstrip\u001b[0m\u001b[1;33m(\u001b[0m\u001b[1;33m)\u001b[0m\u001b[1;33m.\u001b[0m\u001b[0mdecode\u001b[0m\u001b[1;33m(\u001b[0m\u001b[1;34m'UTF-8'\u001b[0m\u001b[1;33m)\u001b[0m\u001b[1;33m\u001b[0m\u001b[0m\n\u001b[0m\u001b[0;32m     11\u001b[0m \u001b[1;33m\u001b[0m\u001b[0m\n\u001b[0;32m     12\u001b[0m         \u001b[1;32mif\u001b[0m \u001b[1;33m(\u001b[0m\u001b[0moutput\u001b[0m\u001b[1;33m.\u001b[0m\u001b[0mendswith\u001b[0m\u001b[1;33m(\u001b[0m\u001b[1;34m'unreachable.'\u001b[0m\u001b[1;33m)\u001b[0m\u001b[1;33m)\u001b[0m \u001b[1;33m:\u001b[0m\u001b[1;33m\u001b[0m\u001b[0m\n",
      "\u001b[1;31mKeyboardInterrupt\u001b[0m: "
     ]
    }
   ],
   "source": [
    "import subprocess\n",
    "import csv\n",
    "\n",
    "def ping(hostname):\n",
    "    p = subprocess.Popen('ping ' + hostname, stdout=subprocess.PIPE, stderr=subprocess.PIPE)\n",
    "\n",
    "    pingStatus = 'ok';\n",
    "        \n",
    "    for line in p.stdout:\n",
    "        output = line.rstrip().decode('UTF-8')\n",
    " \n",
    "        if (output.endswith('unreachable.')) :\n",
    "            #No route from the local system. Packets sent were never put on the wire.\n",
    "            pingStatus = 'unreacheable'\n",
    "            break\n",
    "        elif (output.startswith('Ping request could not find host')) :\n",
    "            pingStatus = 'host_not_found'\n",
    "            break\n",
    "        if (output.startswith('Request timed out.')) :\n",
    "            #No Echo Reply messages were received within the default time of 1 second.\n",
    "            pingStatus = 'timed_out'\n",
    "            break\n",
    "        #end if\n",
    "    #endFor\n",
    "    \n",
    "    return pingStatus\n",
    "#endDef    \n",
    "\n",
    "\n",
    "def printPingResult(hostname):\n",
    "    statusOfPing = ping(hostname)\n",
    "    \n",
    "    if (statusOfPing == 'host_not_found') :\n",
    "        writeToFile('!server-not-found.txt', hostname)\n",
    "    elif (statusOfPing == 'unreacheable') :\n",
    "       writeToFile('!unreachable.txt', hostname)\n",
    "    elif (statusOfPing == 'timed_out') :\n",
    "       writeToFile('!timed_out.txt', hostname)\t   \n",
    "    elif (statusOfPing == 'ok') :\n",
    "        writeToFile('!ok.txt', hostname)\n",
    "    #endIf\n",
    "#endPing\n",
    "\n",
    "\n",
    "def writeToFile(filename, data) :\n",
    "    with open(filename, 'a') as output:\n",
    "        output.write(data + '\\n')\n",
    "    #endWith\n",
    "#endDef    \n",
    "\n",
    "\n",
    "'''\n",
    "servers.txt example\n",
    "   vm8558\n",
    "   host2\n",
    "   server873\n",
    "   google.com\n",
    "'''\n",
    "file = open('servers.txt')\n",
    "\n",
    "try:\n",
    "    reader = csv.reader(file)\n",
    "    \n",
    "    for item in reader:\n",
    "        printPingResult(item[0].strip())\n",
    "    #endFor\n",
    "finally:\n",
    "    file.close()\n",
    "#endTry"
   ]
  },
  {
   "cell_type": "code",
   "execution_count": null,
   "metadata": {
    "collapsed": true
   },
   "outputs": [],
   "source": []
  }
 ],
 "metadata": {
  "kernelspec": {
   "display_name": "Python 3",
   "language": "python",
   "name": "python3"
  },
  "language_info": {
   "codemirror_mode": {
    "name": "ipython",
    "version": 3
   },
   "file_extension": ".py",
   "mimetype": "text/x-python",
   "name": "python",
   "nbconvert_exporter": "python",
   "pygments_lexer": "ipython3",
   "version": "3.6.1"
  }
 },
 "nbformat": 4,
 "nbformat_minor": 2
}
