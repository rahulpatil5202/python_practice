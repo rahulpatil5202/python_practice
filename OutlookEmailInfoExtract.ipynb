{
 "cells": [
  {
   "cell_type": "code",
   "execution_count": 9,
   "metadata": {
    "collapsed": true
   },
   "outputs": [],
   "source": [
    "import win32com.client\n",
    "import sys\n",
    "import unicodecsv as csv"
   ]
  },
  {
   "cell_type": "code",
   "execution_count": 10,
   "metadata": {},
   "outputs": [
    {
     "name": "stdout",
     "output_type": "stream",
     "text": [
      " Processing  4607  Messages in Inbox\n",
      "\n",
      "\n",
      " Processing  329  Messages in Sent Items\n",
      "\n",
      "\n",
      "\n",
      "\n",
      "Done...!!!\n"
     ]
    }
   ],
   "source": [
    "inbox_file_details = open('./inbox_rahul_aibc.csv','wb')    \n",
    "output_writer_inbox = csv.writer(inbox_file_details, delimiter = \"|\", encoding='latin2')\n",
    "\n",
    "sent_file_details = open('./sent_rahul_aibc.csv','wb')    \n",
    "output_writer_sent = csv.writer(sent_file_details, delimiter = \"|\", encoding='latin2')\n",
    "\n",
    "outlook = win32com.client.Dispatch(\"Outlook.Application\").GetNamespace(\"MAPI\")\n",
    "inbox = outlook.GetDefaultFolder(6) # \"6\" refers to the index of a folder - in this case,\n",
    "                                    # the inbox. \n",
    "messages = inbox.Items\n",
    "\n",
    "print(\" Processing \",messages.count, \" Messages in Inbox\\n\\n\")\n",
    "\n",
    "for i, message in enumerate(messages):              # enumerated the items\n",
    "    try:\n",
    "\n",
    "        sender = message.SenderName                 \n",
    "        #sender_address = message.sender.address\n",
    "        sender_address = message.SenderEmailAddress\n",
    "        sent_to = message.To\n",
    "        date = message.LastModificationTime         \n",
    "        subject = message.subject\n",
    "        \n",
    "        output_writer_inbox.writerow([\n",
    "            date,\n",
    "            subject,\n",
    "            sender, \n",
    "            sender_address,             \n",
    "            sent_to]) \n",
    "\n",
    "    except Exception as e:\n",
    "        ()\n",
    "\n",
    "inbox_file_details.close()\n",
    "\n",
    "\n",
    "## Sent items\n",
    "sent_items = outlook.GetDefaultFolder(5) \n",
    "\n",
    "messages = sent_items.Items\n",
    "\n",
    "print(\" Processing \",messages.count, \" Messages in Sent Items\\n\\n\")\n",
    "for i, message in enumerate(messages):               # enumerated the items\n",
    "    try:\n",
    "\n",
    "        sender = message.SenderName                 \n",
    "        sender_address = message.senderEmailAddress         \n",
    "        sent_to = message.To                    \n",
    "        date = message.LastModificationTime         \n",
    "        subject = message.subject\n",
    "        \n",
    "        output_writer_sent.writerow([\n",
    "            date, \n",
    "            sender, \n",
    "            sender_address,             \n",
    "            sent_to,\n",
    "            subject]) \n",
    "\n",
    "    except Exception as e:\n",
    "        ()\n",
    "\n",
    "sent_file_details.close()\n",
    "\n",
    "print(\"\\n\\nDone...!!!\")\n"
   ]
  },
  {
   "cell_type": "code",
   "execution_count": null,
   "metadata": {
    "collapsed": true
   },
   "outputs": [],
   "source": []
  }
 ],
 "metadata": {
  "kernelspec": {
   "display_name": "Python 3",
   "language": "python",
   "name": "python3"
  },
  "language_info": {
   "codemirror_mode": {
    "name": "ipython",
    "version": 3
   },
   "file_extension": ".py",
   "mimetype": "text/x-python",
   "name": "python",
   "nbconvert_exporter": "python",
   "pygments_lexer": "ipython3",
   "version": "3.6.1"
  }
 },
 "nbformat": 4,
 "nbformat_minor": 2
}
