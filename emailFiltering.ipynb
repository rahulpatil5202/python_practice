{
 "cells": [
  {
   "cell_type": "code",
   "execution_count": 35,
   "metadata": {
    "collapsed": true
   },
   "outputs": [],
   "source": [
    "import pandas as pd\n",
    "import os\n",
    "import unicodecsv as csv"
   ]
  },
  {
   "cell_type": "code",
   "execution_count": 27,
   "metadata": {
    "collapsed": true
   },
   "outputs": [],
   "source": [
    "emails = pd.read_csv('ben_anandsir.csv', names=['email_id'], skiprows=1)"
   ]
  },
  {
   "cell_type": "code",
   "execution_count": 28,
   "metadata": {},
   "outputs": [
    {
     "data": {
      "text/html": [
       "<div>\n",
       "<style scoped>\n",
       "    .dataframe tbody tr th:only-of-type {\n",
       "        vertical-align: middle;\n",
       "    }\n",
       "\n",
       "    .dataframe tbody tr th {\n",
       "        vertical-align: top;\n",
       "    }\n",
       "\n",
       "    .dataframe thead th {\n",
       "        text-align: right;\n",
       "    }\n",
       "</style>\n",
       "<table border=\"1\" class=\"dataframe\">\n",
       "  <thead>\n",
       "    <tr style=\"text-align: right;\">\n",
       "      <th></th>\n",
       "      <th>email_id</th>\n",
       "    </tr>\n",
       "  </thead>\n",
       "  <tbody>\n",
       "    <tr>\n",
       "      <th>0</th>\n",
       "      <td>bbmandal@hotmail.com</td>\n",
       "    </tr>\n",
       "    <tr>\n",
       "      <th>1</th>\n",
       "      <td>fayaz@iiap.res.in</td>\n",
       "    </tr>\n",
       "    <tr>\n",
       "      <th>2</th>\n",
       "      <td>07.supriya@gmail.com</td>\n",
       "    </tr>\n",
       "    <tr>\n",
       "      <th>3</th>\n",
       "      <td>10dbags@gmail.com</td>\n",
       "    </tr>\n",
       "    <tr>\n",
       "      <th>4</th>\n",
       "      <td>1965atl@gmail.com</td>\n",
       "    </tr>\n",
       "  </tbody>\n",
       "</table>\n",
       "</div>"
      ],
      "text/plain": [
       "               email_id\n",
       "0  bbmandal@hotmail.com\n",
       "1     fayaz@iiap.res.in\n",
       "2  07.supriya@gmail.com\n",
       "3     10dbags@gmail.com\n",
       "4     1965atl@gmail.com"
      ]
     },
     "execution_count": 28,
     "metadata": {},
     "output_type": "execute_result"
    }
   ],
   "source": [
    "emails.head()"
   ]
  },
  {
   "cell_type": "code",
   "execution_count": 29,
   "metadata": {
    "collapsed": true
   },
   "outputs": [],
   "source": [
    "emails['domain'] = emails['email_id'].str.split('@').str[1]"
   ]
  },
  {
   "cell_type": "code",
   "execution_count": 30,
   "metadata": {},
   "outputs": [
    {
     "data": {
      "text/html": [
       "<div>\n",
       "<style scoped>\n",
       "    .dataframe tbody tr th:only-of-type {\n",
       "        vertical-align: middle;\n",
       "    }\n",
       "\n",
       "    .dataframe tbody tr th {\n",
       "        vertical-align: top;\n",
       "    }\n",
       "\n",
       "    .dataframe thead th {\n",
       "        text-align: right;\n",
       "    }\n",
       "</style>\n",
       "<table border=\"1\" class=\"dataframe\">\n",
       "  <thead>\n",
       "    <tr style=\"text-align: right;\">\n",
       "      <th></th>\n",
       "      <th>email_id</th>\n",
       "      <th>domain</th>\n",
       "    </tr>\n",
       "  </thead>\n",
       "  <tbody>\n",
       "    <tr>\n",
       "      <th>0</th>\n",
       "      <td>bbmandal@hotmail.com</td>\n",
       "      <td>hotmail.com</td>\n",
       "    </tr>\n",
       "    <tr>\n",
       "      <th>1</th>\n",
       "      <td>fayaz@iiap.res.in</td>\n",
       "      <td>iiap.res.in</td>\n",
       "    </tr>\n",
       "    <tr>\n",
       "      <th>2</th>\n",
       "      <td>07.supriya@gmail.com</td>\n",
       "      <td>gmail.com</td>\n",
       "    </tr>\n",
       "    <tr>\n",
       "      <th>3</th>\n",
       "      <td>10dbags@gmail.com</td>\n",
       "      <td>gmail.com</td>\n",
       "    </tr>\n",
       "    <tr>\n",
       "      <th>4</th>\n",
       "      <td>1965atl@gmail.com</td>\n",
       "      <td>gmail.com</td>\n",
       "    </tr>\n",
       "  </tbody>\n",
       "</table>\n",
       "</div>"
      ],
      "text/plain": [
       "               email_id       domain\n",
       "0  bbmandal@hotmail.com  hotmail.com\n",
       "1     fayaz@iiap.res.in  iiap.res.in\n",
       "2  07.supriya@gmail.com    gmail.com\n",
       "3     10dbags@gmail.com    gmail.com\n",
       "4     1965atl@gmail.com    gmail.com"
      ]
     },
     "execution_count": 30,
     "metadata": {},
     "output_type": "execute_result"
    }
   ],
   "source": [
    "emails.head()"
   ]
  },
  {
   "cell_type": "code",
   "execution_count": 31,
   "metadata": {},
   "outputs": [
    {
     "data": {
      "text/plain": [
       "domain\n",
       "10xofy.com                1\n",
       "1ht-services-india.com    1\n",
       "1mobility.com             1\n",
       "20microns.com             1\n",
       "24X7holidays.in           1\n",
       "Name: domain, dtype: int64"
      ]
     },
     "execution_count": 31,
     "metadata": {},
     "output_type": "execute_result"
    }
   ],
   "source": [
    "domain_count = emails.groupby('domain')['domain'].count()\n",
    "domain_count.head()"
   ]
  },
  {
   "cell_type": "markdown",
   "metadata": {
    "collapsed": true
   },
   "source": [
    "## Remove Kairee and Aryan IDs"
   ]
  },
  {
   "cell_type": "code",
   "execution_count": 32,
   "metadata": {},
   "outputs": [
    {
     "data": {
      "text/plain": [
       "email_id    12\n",
       "domain      12\n",
       "dtype: int64"
      ]
     },
     "execution_count": 32,
     "metadata": {},
     "output_type": "execute_result"
    }
   ],
   "source": [
    "emails[emails['domain'].str.contains('aibc')].count()"
   ]
  },
  {
   "cell_type": "code",
   "execution_count": 33,
   "metadata": {
    "collapsed": true
   },
   "outputs": [],
   "source": [
    "from validate_email import validate_email"
   ]
  },
  {
   "cell_type": "code",
   "execution_count": 38,
   "metadata": {},
   "outputs": [
    {
     "name": "stdout",
     "output_type": "stream",
     "text": [
      "email_id    13968\n",
      "domain      13968\n",
      "dtype: int64\n",
      "abhilakh@gmail.com/abhilakh@ireda.gov.in  Analysed\n",
      "admin@cmdapune@vsnl.net  Analysed\n",
      "kurianphabel@gmail.com/secy.itd@kerala.gov.in  Analysed\n",
      "mdniy@yahoo.co.in/harry20186@gmail.com  Analysed\n",
      "poojanram440@gmail.com/cca.dl-dot@nic.in  Analysed\n",
      "ravindra@tifac.org.in    Analysed\n",
      "rthapa@wii.gov.in   Analysed\n",
      "sales@coldproducts,in  Analysed\n",
      "singh300671@gmail.com/dksingh@ireda.gov.in  Analysed\n",
      "vijaysrivastav@ignou.ac.in/headcd@ignou.ac.in  Analysed\n"
     ]
    }
   ],
   "source": [
    "validated_emails = open('./validated_email_list.csv','wb')    \n",
    "output_writer = csv.writer(validated_emails, delimiter = \"|\", encoding='latin2')\n",
    "print(emails.count())\n",
    "for email in emails.email_id:\n",
    "    \n",
    "    try:\n",
    "\n",
    "        address = email\n",
    "        valid_address = validate_email(email)\n",
    "        valid_domain = validate_email(email,check_mx=True)\n",
    "        email_exists = validate_email(email,verify=True)\n",
    "        \n",
    "        output_writer.writerow([\n",
    "            address,\n",
    "            valid_address,\n",
    "            valid_domain, \n",
    "            email_exists])\n",
    "        print(email,\" Analysed\")\n",
    "\n",
    "    except Exception as e:\n",
    "        ()\n",
    "\n",
    "validated_emails.close()"
   ]
  },
  {
   "cell_type": "code",
   "execution_count": null,
   "metadata": {
    "collapsed": true
   },
   "outputs": [],
   "source": []
  }
 ],
 "metadata": {
  "kernelspec": {
   "display_name": "Python 3",
   "language": "python",
   "name": "python3"
  },
  "language_info": {
   "codemirror_mode": {
    "name": "ipython",
    "version": 3
   },
   "file_extension": ".py",
   "mimetype": "text/x-python",
   "name": "python",
   "nbconvert_exporter": "python",
   "pygments_lexer": "ipython3",
   "version": "3.6.1"
  }
 },
 "nbformat": 4,
 "nbformat_minor": 2
}
