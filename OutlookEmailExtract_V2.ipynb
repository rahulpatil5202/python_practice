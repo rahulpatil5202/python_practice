{
 "cells": [
  {
   "cell_type": "code",
   "execution_count": 23,
   "metadata": {},
   "outputs": [
    {
     "name": "stdout",
     "output_type": "stream",
     "text": [
      " Processing  137  Messages in Inbox\n",
      "\n",
      "\n",
      " Processing  1262  Messages in Sent Items\n",
      "\n",
      "\n",
      "\n",
      "\n",
      "Done...!!!\n"
     ]
    }
   ],
   "source": [
    "import win32com.client\n",
    "import sys\n",
    "import unicodecsv as csv\n",
    "\n",
    "inbox_file_details = open('./inbox.csv','wb')    \n",
    "output_writer_inbox = csv.writer(inbox_file_details, delimiter = \"\\t\", encoding='latin2')\n",
    "\n",
    "sent_file_details = open('./sent.csv','wb')    \n",
    "output_writer_sent = csv.writer(sent_file_details, delimiter = \"\\t\", encoding='latin2')\n",
    "\n",
    "outlook = win32com.client.Dispatch(\"Outlook.Application\").GetNamespace(\"MAPI\")\n",
    "inbox = outlook.GetDefaultFolder(6) # \"6\" refers to the index of a folder - in this case,\n",
    "                                    # the inbox. \n",
    "messages = inbox.Items\n",
    "\n",
    "print(\" Processing \",messages.count, \" Messages in Inbox\\n\\n\")\n",
    "\n",
    "for i, message in enumerate(messages):              # enumerated the items\n",
    "    try:\n",
    "\n",
    "        sender = message.SenderName                 \n",
    "        #sender_address = message.sender.address\n",
    "        sender_address = message.SenderEmailAddress\n",
    "        sent_to = message.To\n",
    "        date = message.LastModificationTime         \n",
    "        subject = message.subject                   \n",
    "\n",
    "        output_writer_inbox.writerow([\n",
    "            date,\n",
    "            subject,\n",
    "            sender, \n",
    "            sender_address,             \n",
    "            sent_to]) \n",
    "\n",
    "    except Exception as e:\n",
    "        ()\n",
    "\n",
    "inbox_file_details.close()\n",
    "\n",
    "\n",
    "## Sent items\n",
    "sent_items = outlook.GetDefaultFolder(5) \n",
    "\n",
    "messages = sent_items.Items\n",
    "\n",
    "print(\" Processing \",messages.count, \" Messages in Sent Items\\n\\n\")\n",
    "for i, message in enumerate(messages):               # enumerated the items\n",
    "    try:\n",
    "\n",
    "        sender = message.SenderName                 \n",
    "        sender_address = message.senderEmailAddress         \n",
    "        sent_to = message.To                    \n",
    "        date = message.LastModificationTime         \n",
    "        subject = message.subject                   \n",
    "\n",
    "        output_writer_sent.writerow([\n",
    "            date, \n",
    "            sender, \n",
    "            sender_address,             \n",
    "            sent_to,\n",
    "            subject]) \n",
    "\n",
    "    except Exception as e:\n",
    "        ()\n",
    "\n",
    "sent_file_details.close()\n",
    "\n",
    "print(\"\\n\\nDone...!!!\")\n"
   ]
  },
  {
   "cell_type": "code",
   "execution_count": 16,
   "metadata": {},
   "outputs": [
    {
     "name": "stdout",
     "output_type": "stream",
     "text": [
      "D:\\ProgramData\\Anaconda3\\python.exe\n"
     ]
    }
   ],
   "source": [
    "print(sys.executable)"
   ]
  },
  {
   "cell_type": "code",
   "execution_count": 17,
   "metadata": {},
   "outputs": [
    {
     "name": "stdout",
     "output_type": "stream",
     "text": [
      "['', 'D:\\\\ProgramData\\\\Anaconda3\\\\python36.zip', 'D:\\\\ProgramData\\\\Anaconda3\\\\DLLs', 'D:\\\\ProgramData\\\\Anaconda3\\\\lib', 'D:\\\\ProgramData\\\\Anaconda3', 'C:\\\\Users\\\\Rahul\\\\AppData\\\\Roaming\\\\Python\\\\Python36\\\\site-packages', 'D:\\\\ProgramData\\\\Anaconda3\\\\lib\\\\site-packages', 'D:\\\\ProgramData\\\\Anaconda3\\\\lib\\\\site-packages\\\\Sphinx-1.5.6-py3.6.egg', 'D:\\\\ProgramData\\\\Anaconda3\\\\lib\\\\site-packages\\\\win32', 'D:\\\\ProgramData\\\\Anaconda3\\\\lib\\\\site-packages\\\\win32\\\\lib', 'D:\\\\ProgramData\\\\Anaconda3\\\\lib\\\\site-packages\\\\Pythonwin', 'D:\\\\ProgramData\\\\Anaconda3\\\\lib\\\\site-packages\\\\setuptools-27.2.0-py3.6.egg', 'D:\\\\ProgramData\\\\Anaconda3\\\\lib\\\\site-packages\\\\IPython\\\\extensions', 'C:\\\\Users\\\\Rahul\\\\.ipython']\n"
     ]
    }
   ],
   "source": [
    "print(sys.path)"
   ]
  },
  {
   "cell_type": "code",
   "execution_count": null,
   "metadata": {
    "collapsed": true
   },
   "outputs": [],
   "source": []
  }
 ],
 "metadata": {
  "kernelspec": {
   "display_name": "Python 3",
   "language": "python",
   "name": "python3"
  },
  "language_info": {
   "codemirror_mode": {
    "name": "ipython",
    "version": 3
   },
   "file_extension": ".py",
   "mimetype": "text/x-python",
   "name": "python",
   "nbconvert_exporter": "python",
   "pygments_lexer": "ipython3",
   "version": "3.6.1"
  }
 },
 "nbformat": 4,
 "nbformat_minor": 2
}
